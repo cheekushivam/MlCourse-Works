{
  "cells": [
    {
      "metadata": {
        "_uuid": "570fb89bb4f7838b1d0fdff70b2935790e5dbdbe"
      },
      "cell_type": "markdown",
      "source": "<center>\n<img src=\"https://habrastorage.org/files/fd4/502/43d/fd450243dd604b81b9713213a247aa20.jpg\">\n    \n## [mlcourse.ai](mlcourse.ai) – Open Machine Learning Course \n\n<center>Author: [Yury Kashnitskiy](http://yorko.github.io) <br>\nTranslated and edited by [Sergey Isaev](https://www.linkedin.com/in/isvforall/), [Artem Trunov](https://www.linkedin.com/in/datamove/), [Anastasia Manokhina](https://www.linkedin.com/in/anastasiamanokhina/), and [Yuanyuan Pao](https://www.linkedin.com/in/yuanyuanpao/) <br>All content is distributed under the [Creative Commons CC BY-NC-SA 4.0](https://creativecommons.org/licenses/by-nc-sa/4.0/) license."
    },
    {
      "metadata": {
        "_uuid": "998fc5f76227ab1df9460a7b05c508304b14b3a6"
      },
      "cell_type": "markdown",
      "source": "# <center> Assignment #1 (demo)\n## <center>  Exploratory data analysis with Pandas\n"
    },
    {
      "metadata": {
        "_uuid": "89ef93231815456f4e0bc5dcc00b094aee800993"
      },
      "cell_type": "markdown",
      "source": "**In this task you should use Pandas to answer a few questions about the [Adult](https://archive.ics.uci.edu/ml/datasets/Adult) dataset. (You don't have to download the data – it's already here). Choose the answers in the [web-form](https://docs.google.com/forms/d/1uY7MpI2trKx6FLWZte0uVh3ULV4Cm_tDud0VDFGCOKg). This is a demo version of an assignment, so by submitting the form, you'll see a link to the solution .ipynb file.**"
    },
    {
      "metadata": {
        "_uuid": "c322301ac858c748f8f80e63cf6f734fc70dde30"
      },
      "cell_type": "markdown",
      "source": "Unique values of all features (for more information, please see the links above):\n- `age`: continuous.\n- `workclass`: Private, Self-emp-not-inc, Self-emp-inc, Federal-gov, Local-gov, State-gov, Without-pay, Never-worked.\n- `fnlwgt`: continuous.\n- `education`: Bachelors, Some-college, 11th, HS-grad, Prof-school, Assoc-acdm, Assoc-voc, 9th, 7th-8th, 12th, Masters, 1st-4th, 10th, Doctorate, 5th-6th, Preschool.\n- `education-num`: continuous.\n- `marital-status`: Married-civ-spouse, Divorced, Never-married, Separated, Widowed, Married-spouse-absent, Married-AF-spouse.\n- `occupation`: Tech-support, Craft-repair, Other-service, Sales, Exec-managerial, Prof-specialty, Handlers-cleaners, Machine-op-inspct, Adm-clerical, Farming-fishing, Transport-moving, Priv-house-serv, Protective-serv, Armed-Forces.\n- `relationship`: Wife, Own-child, Husband, Not-in-family, Other-relative, Unmarried.\n- `race`: White, Asian-Pac-Islander, Amer-Indian-Eskimo, Other, Black.\n- `sex`: Female, Male.\n- `capital-gain`: continuous.\n- `capital-loss`: continuous.\n- `hours-per-week`: continuous.\n- `native-country`: United-States, Cambodia, England, Puerto-Rico, Canada, Germany, Outlying-US(Guam-USVI-etc), India, Japan, Greece, South, China, Cuba, Iran, Honduras, Philippines, Italy, Poland, Jamaica, Vietnam, Mexico, Portugal, Ireland, France, Dominican-Republic, Laos, Ecuador, Taiwan, Haiti, Columbia, Hungary, Guatemala, Nicaragua, Scotland, Thailand, Yugoslavia, El-Salvador, Trinadad&Tobago, Peru, Hong, Holand-Netherlands.   \n- `salary`: >50K,<=50K"
    },
    {
      "metadata": {
        "trusted": true,
        "_uuid": "d3eb2411e23b7db11e4cbbb498a42752442a6f4c"
      },
      "cell_type": "code",
      "source": "import pandas as pd",
      "execution_count": 5,
      "outputs": []
    },
    {
      "metadata": {
        "trusted": true,
        "_uuid": "c5119d1b8151029b4ff57735c4279b795ae492a2"
      },
      "cell_type": "code",
      "source": "data = pd.read_csv('../input/adult.data.csv')\ndata.head(100)",
      "execution_count": 6,
      "outputs": [
        {
          "output_type": "execute_result",
          "execution_count": 6,
          "data": {
            "text/plain": "    age         workclass  fnlwgt  ...   hours-per-week  native-country salary\n0    39         State-gov   77516  ...               40   United-States  <=50K\n1    50  Self-emp-not-inc   83311  ...               13   United-States  <=50K\n2    38           Private  215646  ...               40   United-States  <=50K\n3    53           Private  234721  ...               40   United-States  <=50K\n4    28           Private  338409  ...               40            Cuba  <=50K\n5    37           Private  284582  ...               40   United-States  <=50K\n6    49           Private  160187  ...               16         Jamaica  <=50K\n7    52  Self-emp-not-inc  209642  ...               45   United-States   >50K\n8    31           Private   45781  ...               50   United-States   >50K\n9    42           Private  159449  ...               40   United-States   >50K\n10   37           Private  280464  ...               80   United-States   >50K\n11   30         State-gov  141297  ...               40           India   >50K\n12   23           Private  122272  ...               30   United-States  <=50K\n13   32           Private  205019  ...               50   United-States  <=50K\n14   40           Private  121772  ...               40               ?   >50K\n15   34           Private  245487  ...               45          Mexico  <=50K\n16   25  Self-emp-not-inc  176756  ...               35   United-States  <=50K\n17   32           Private  186824  ...               40   United-States  <=50K\n18   38           Private   28887  ...               50   United-States  <=50K\n19   43  Self-emp-not-inc  292175  ...               45   United-States   >50K\n20   40           Private  193524  ...               60   United-States   >50K\n21   54           Private  302146  ...               20   United-States  <=50K\n22   35       Federal-gov   76845  ...               40   United-States  <=50K\n23   43           Private  117037  ...               40   United-States  <=50K\n24   59           Private  109015  ...               40   United-States  <=50K\n25   56         Local-gov  216851  ...               40   United-States   >50K\n26   19           Private  168294  ...               40   United-States  <=50K\n27   54                 ?  180211  ...               60           South   >50K\n28   39           Private  367260  ...               80   United-States  <=50K\n29   49           Private  193366  ...               40   United-States  <=50K\n..  ...               ...     ...  ...              ...             ...    ...\n70   19           Private  101509  ...               32   United-States  <=50K\n71   31           Private  309974  ...               40   United-States  <=50K\n72   29  Self-emp-not-inc  162298  ...               70   United-States   >50K\n73   23           Private  211678  ...               40   United-States  <=50K\n74   79           Private  124744  ...               20   United-States  <=50K\n75   27           Private  213921  ...               40          Mexico  <=50K\n76   40           Private   32214  ...               40   United-States  <=50K\n77   67                 ?  212759  ...                2   United-States  <=50K\n78   18           Private  309634  ...               22   United-States  <=50K\n79   31         Local-gov  125927  ...               40   United-States  <=50K\n80   18           Private  446839  ...               30   United-States  <=50K\n81   52           Private  276515  ...               40            Cuba  <=50K\n82   46           Private   51618  ...               40   United-States  <=50K\n83   59           Private  159937  ...               48   United-States  <=50K\n84   44           Private  343591  ...               40   United-States   >50K\n85   53           Private  346253  ...               35   United-States  <=50K\n86   49         Local-gov  268234  ...               40   United-States   >50K\n87   33           Private  202051  ...               50   United-States  <=50K\n88   30           Private   54334  ...               40   United-States  <=50K\n89   43       Federal-gov  410867  ...               50   United-States   >50K\n90   57           Private  249977  ...               40   United-States  <=50K\n91   37           Private  286730  ...               40   United-States  <=50K\n92   28           Private  212563  ...               25   United-States  <=50K\n93   30           Private  117747  ...               35               ?  <=50K\n94   34         Local-gov  226296  ...               40   United-States   >50K\n95   29         Local-gov  115585  ...               50   United-States  <=50K\n96   48  Self-emp-not-inc  191277  ...               60   United-States   >50K\n97   37           Private  202683  ...               48   United-States   >50K\n98   48           Private  171095  ...               40         England  <=50K\n99   32       Federal-gov  249409  ...               40   United-States  <=50K\n\n[100 rows x 15 columns]",
            "text/html": "<div>\n<style scoped>\n    .dataframe tbody tr th:only-of-type {\n        vertical-align: middle;\n    }\n\n    .dataframe tbody tr th {\n        vertical-align: top;\n    }\n\n    .dataframe thead th {\n        text-align: right;\n    }\n</style>\n<table border=\"1\" class=\"dataframe\">\n  <thead>\n    <tr style=\"text-align: right;\">\n      <th></th>\n      <th>age</th>\n      <th>workclass</th>\n      <th>fnlwgt</th>\n      <th>education</th>\n      <th>education-num</th>\n      <th>marital-status</th>\n      <th>occupation</th>\n      <th>relationship</th>\n      <th>race</th>\n      <th>sex</th>\n      <th>capital-gain</th>\n      <th>capital-loss</th>\n      <th>hours-per-week</th>\n      <th>native-country</th>\n      <th>salary</th>\n    </tr>\n  </thead>\n  <tbody>\n    <tr>\n      <th>0</th>\n      <td>39</td>\n      <td>State-gov</td>\n      <td>77516</td>\n      <td>Bachelors</td>\n      <td>13</td>\n      <td>Never-married</td>\n      <td>Adm-clerical</td>\n      <td>Not-in-family</td>\n      <td>White</td>\n      <td>Male</td>\n      <td>2174</td>\n      <td>0</td>\n      <td>40</td>\n      <td>United-States</td>\n      <td>&lt;=50K</td>\n    </tr>\n    <tr>\n      <th>1</th>\n      <td>50</td>\n      <td>Self-emp-not-inc</td>\n      <td>83311</td>\n      <td>Bachelors</td>\n      <td>13</td>\n      <td>Married-civ-spouse</td>\n      <td>Exec-managerial</td>\n      <td>Husband</td>\n      <td>White</td>\n      <td>Male</td>\n      <td>0</td>\n      <td>0</td>\n      <td>13</td>\n      <td>United-States</td>\n      <td>&lt;=50K</td>\n    </tr>\n    <tr>\n      <th>2</th>\n      <td>38</td>\n      <td>Private</td>\n      <td>215646</td>\n      <td>HS-grad</td>\n      <td>9</td>\n      <td>Divorced</td>\n      <td>Handlers-cleaners</td>\n      <td>Not-in-family</td>\n      <td>White</td>\n      <td>Male</td>\n      <td>0</td>\n      <td>0</td>\n      <td>40</td>\n      <td>United-States</td>\n      <td>&lt;=50K</td>\n    </tr>\n    <tr>\n      <th>3</th>\n      <td>53</td>\n      <td>Private</td>\n      <td>234721</td>\n      <td>11th</td>\n      <td>7</td>\n      <td>Married-civ-spouse</td>\n      <td>Handlers-cleaners</td>\n      <td>Husband</td>\n      <td>Black</td>\n      <td>Male</td>\n      <td>0</td>\n      <td>0</td>\n      <td>40</td>\n      <td>United-States</td>\n      <td>&lt;=50K</td>\n    </tr>\n    <tr>\n      <th>4</th>\n      <td>28</td>\n      <td>Private</td>\n      <td>338409</td>\n      <td>Bachelors</td>\n      <td>13</td>\n      <td>Married-civ-spouse</td>\n      <td>Prof-specialty</td>\n      <td>Wife</td>\n      <td>Black</td>\n      <td>Female</td>\n      <td>0</td>\n      <td>0</td>\n      <td>40</td>\n      <td>Cuba</td>\n      <td>&lt;=50K</td>\n    </tr>\n    <tr>\n      <th>5</th>\n      <td>37</td>\n      <td>Private</td>\n      <td>284582</td>\n      <td>Masters</td>\n      <td>14</td>\n      <td>Married-civ-spouse</td>\n      <td>Exec-managerial</td>\n      <td>Wife</td>\n      <td>White</td>\n      <td>Female</td>\n      <td>0</td>\n      <td>0</td>\n      <td>40</td>\n      <td>United-States</td>\n      <td>&lt;=50K</td>\n    </tr>\n    <tr>\n      <th>6</th>\n      <td>49</td>\n      <td>Private</td>\n      <td>160187</td>\n      <td>9th</td>\n      <td>5</td>\n      <td>Married-spouse-absent</td>\n      <td>Other-service</td>\n      <td>Not-in-family</td>\n      <td>Black</td>\n      <td>Female</td>\n      <td>0</td>\n      <td>0</td>\n      <td>16</td>\n      <td>Jamaica</td>\n      <td>&lt;=50K</td>\n    </tr>\n    <tr>\n      <th>7</th>\n      <td>52</td>\n      <td>Self-emp-not-inc</td>\n      <td>209642</td>\n      <td>HS-grad</td>\n      <td>9</td>\n      <td>Married-civ-spouse</td>\n      <td>Exec-managerial</td>\n      <td>Husband</td>\n      <td>White</td>\n      <td>Male</td>\n      <td>0</td>\n      <td>0</td>\n      <td>45</td>\n      <td>United-States</td>\n      <td>&gt;50K</td>\n    </tr>\n    <tr>\n      <th>8</th>\n      <td>31</td>\n      <td>Private</td>\n      <td>45781</td>\n      <td>Masters</td>\n      <td>14</td>\n      <td>Never-married</td>\n      <td>Prof-specialty</td>\n      <td>Not-in-family</td>\n      <td>White</td>\n      <td>Female</td>\n      <td>14084</td>\n      <td>0</td>\n      <td>50</td>\n      <td>United-States</td>\n      <td>&gt;50K</td>\n    </tr>\n    <tr>\n      <th>9</th>\n      <td>42</td>\n      <td>Private</td>\n      <td>159449</td>\n      <td>Bachelors</td>\n      <td>13</td>\n      <td>Married-civ-spouse</td>\n      <td>Exec-managerial</td>\n      <td>Husband</td>\n      <td>White</td>\n      <td>Male</td>\n      <td>5178</td>\n      <td>0</td>\n      <td>40</td>\n      <td>United-States</td>\n      <td>&gt;50K</td>\n    </tr>\n    <tr>\n      <th>10</th>\n      <td>37</td>\n      <td>Private</td>\n      <td>280464</td>\n      <td>Some-college</td>\n      <td>10</td>\n      <td>Married-civ-spouse</td>\n      <td>Exec-managerial</td>\n      <td>Husband</td>\n      <td>Black</td>\n      <td>Male</td>\n      <td>0</td>\n      <td>0</td>\n      <td>80</td>\n      <td>United-States</td>\n      <td>&gt;50K</td>\n    </tr>\n    <tr>\n      <th>11</th>\n      <td>30</td>\n      <td>State-gov</td>\n      <td>141297</td>\n      <td>Bachelors</td>\n      <td>13</td>\n      <td>Married-civ-spouse</td>\n      <td>Prof-specialty</td>\n      <td>Husband</td>\n      <td>Asian-Pac-Islander</td>\n      <td>Male</td>\n      <td>0</td>\n      <td>0</td>\n      <td>40</td>\n      <td>India</td>\n      <td>&gt;50K</td>\n    </tr>\n    <tr>\n      <th>12</th>\n      <td>23</td>\n      <td>Private</td>\n      <td>122272</td>\n      <td>Bachelors</td>\n      <td>13</td>\n      <td>Never-married</td>\n      <td>Adm-clerical</td>\n      <td>Own-child</td>\n      <td>White</td>\n      <td>Female</td>\n      <td>0</td>\n      <td>0</td>\n      <td>30</td>\n      <td>United-States</td>\n      <td>&lt;=50K</td>\n    </tr>\n    <tr>\n      <th>13</th>\n      <td>32</td>\n      <td>Private</td>\n      <td>205019</td>\n      <td>Assoc-acdm</td>\n      <td>12</td>\n      <td>Never-married</td>\n      <td>Sales</td>\n      <td>Not-in-family</td>\n      <td>Black</td>\n      <td>Male</td>\n      <td>0</td>\n      <td>0</td>\n      <td>50</td>\n      <td>United-States</td>\n      <td>&lt;=50K</td>\n    </tr>\n    <tr>\n      <th>14</th>\n      <td>40</td>\n      <td>Private</td>\n      <td>121772</td>\n      <td>Assoc-voc</td>\n      <td>11</td>\n      <td>Married-civ-spouse</td>\n      <td>Craft-repair</td>\n      <td>Husband</td>\n      <td>Asian-Pac-Islander</td>\n      <td>Male</td>\n      <td>0</td>\n      <td>0</td>\n      <td>40</td>\n      <td>?</td>\n      <td>&gt;50K</td>\n    </tr>\n    <tr>\n      <th>15</th>\n      <td>34</td>\n      <td>Private</td>\n      <td>245487</td>\n      <td>7th-8th</td>\n      <td>4</td>\n      <td>Married-civ-spouse</td>\n      <td>Transport-moving</td>\n      <td>Husband</td>\n      <td>Amer-Indian-Eskimo</td>\n      <td>Male</td>\n      <td>0</td>\n      <td>0</td>\n      <td>45</td>\n      <td>Mexico</td>\n      <td>&lt;=50K</td>\n    </tr>\n    <tr>\n      <th>16</th>\n      <td>25</td>\n      <td>Self-emp-not-inc</td>\n      <td>176756</td>\n      <td>HS-grad</td>\n      <td>9</td>\n      <td>Never-married</td>\n      <td>Farming-fishing</td>\n      <td>Own-child</td>\n      <td>White</td>\n      <td>Male</td>\n      <td>0</td>\n      <td>0</td>\n      <td>35</td>\n      <td>United-States</td>\n      <td>&lt;=50K</td>\n    </tr>\n    <tr>\n      <th>17</th>\n      <td>32</td>\n      <td>Private</td>\n      <td>186824</td>\n      <td>HS-grad</td>\n      <td>9</td>\n      <td>Never-married</td>\n      <td>Machine-op-inspct</td>\n      <td>Unmarried</td>\n      <td>White</td>\n      <td>Male</td>\n      <td>0</td>\n      <td>0</td>\n      <td>40</td>\n      <td>United-States</td>\n      <td>&lt;=50K</td>\n    </tr>\n    <tr>\n      <th>18</th>\n      <td>38</td>\n      <td>Private</td>\n      <td>28887</td>\n      <td>11th</td>\n      <td>7</td>\n      <td>Married-civ-spouse</td>\n      <td>Sales</td>\n      <td>Husband</td>\n      <td>White</td>\n      <td>Male</td>\n      <td>0</td>\n      <td>0</td>\n      <td>50</td>\n      <td>United-States</td>\n      <td>&lt;=50K</td>\n    </tr>\n    <tr>\n      <th>19</th>\n      <td>43</td>\n      <td>Self-emp-not-inc</td>\n      <td>292175</td>\n      <td>Masters</td>\n      <td>14</td>\n      <td>Divorced</td>\n      <td>Exec-managerial</td>\n      <td>Unmarried</td>\n      <td>White</td>\n      <td>Female</td>\n      <td>0</td>\n      <td>0</td>\n      <td>45</td>\n      <td>United-States</td>\n      <td>&gt;50K</td>\n    </tr>\n    <tr>\n      <th>20</th>\n      <td>40</td>\n      <td>Private</td>\n      <td>193524</td>\n      <td>Doctorate</td>\n      <td>16</td>\n      <td>Married-civ-spouse</td>\n      <td>Prof-specialty</td>\n      <td>Husband</td>\n      <td>White</td>\n      <td>Male</td>\n      <td>0</td>\n      <td>0</td>\n      <td>60</td>\n      <td>United-States</td>\n      <td>&gt;50K</td>\n    </tr>\n    <tr>\n      <th>21</th>\n      <td>54</td>\n      <td>Private</td>\n      <td>302146</td>\n      <td>HS-grad</td>\n      <td>9</td>\n      <td>Separated</td>\n      <td>Other-service</td>\n      <td>Unmarried</td>\n      <td>Black</td>\n      <td>Female</td>\n      <td>0</td>\n      <td>0</td>\n      <td>20</td>\n      <td>United-States</td>\n      <td>&lt;=50K</td>\n    </tr>\n    <tr>\n      <th>22</th>\n      <td>35</td>\n      <td>Federal-gov</td>\n      <td>76845</td>\n      <td>9th</td>\n      <td>5</td>\n      <td>Married-civ-spouse</td>\n      <td>Farming-fishing</td>\n      <td>Husband</td>\n      <td>Black</td>\n      <td>Male</td>\n      <td>0</td>\n      <td>0</td>\n      <td>40</td>\n      <td>United-States</td>\n      <td>&lt;=50K</td>\n    </tr>\n    <tr>\n      <th>23</th>\n      <td>43</td>\n      <td>Private</td>\n      <td>117037</td>\n      <td>11th</td>\n      <td>7</td>\n      <td>Married-civ-spouse</td>\n      <td>Transport-moving</td>\n      <td>Husband</td>\n      <td>White</td>\n      <td>Male</td>\n      <td>0</td>\n      <td>2042</td>\n      <td>40</td>\n      <td>United-States</td>\n      <td>&lt;=50K</td>\n    </tr>\n    <tr>\n      <th>24</th>\n      <td>59</td>\n      <td>Private</td>\n      <td>109015</td>\n      <td>HS-grad</td>\n      <td>9</td>\n      <td>Divorced</td>\n      <td>Tech-support</td>\n      <td>Unmarried</td>\n      <td>White</td>\n      <td>Female</td>\n      <td>0</td>\n      <td>0</td>\n      <td>40</td>\n      <td>United-States</td>\n      <td>&lt;=50K</td>\n    </tr>\n    <tr>\n      <th>25</th>\n      <td>56</td>\n      <td>Local-gov</td>\n      <td>216851</td>\n      <td>Bachelors</td>\n      <td>13</td>\n      <td>Married-civ-spouse</td>\n      <td>Tech-support</td>\n      <td>Husband</td>\n      <td>White</td>\n      <td>Male</td>\n      <td>0</td>\n      <td>0</td>\n      <td>40</td>\n      <td>United-States</td>\n      <td>&gt;50K</td>\n    </tr>\n    <tr>\n      <th>26</th>\n      <td>19</td>\n      <td>Private</td>\n      <td>168294</td>\n      <td>HS-grad</td>\n      <td>9</td>\n      <td>Never-married</td>\n      <td>Craft-repair</td>\n      <td>Own-child</td>\n      <td>White</td>\n      <td>Male</td>\n      <td>0</td>\n      <td>0</td>\n      <td>40</td>\n      <td>United-States</td>\n      <td>&lt;=50K</td>\n    </tr>\n    <tr>\n      <th>27</th>\n      <td>54</td>\n      <td>?</td>\n      <td>180211</td>\n      <td>Some-college</td>\n      <td>10</td>\n      <td>Married-civ-spouse</td>\n      <td>?</td>\n      <td>Husband</td>\n      <td>Asian-Pac-Islander</td>\n      <td>Male</td>\n      <td>0</td>\n      <td>0</td>\n      <td>60</td>\n      <td>South</td>\n      <td>&gt;50K</td>\n    </tr>\n    <tr>\n      <th>28</th>\n      <td>39</td>\n      <td>Private</td>\n      <td>367260</td>\n      <td>HS-grad</td>\n      <td>9</td>\n      <td>Divorced</td>\n      <td>Exec-managerial</td>\n      <td>Not-in-family</td>\n      <td>White</td>\n      <td>Male</td>\n      <td>0</td>\n      <td>0</td>\n      <td>80</td>\n      <td>United-States</td>\n      <td>&lt;=50K</td>\n    </tr>\n    <tr>\n      <th>29</th>\n      <td>49</td>\n      <td>Private</td>\n      <td>193366</td>\n      <td>HS-grad</td>\n      <td>9</td>\n      <td>Married-civ-spouse</td>\n      <td>Craft-repair</td>\n      <td>Husband</td>\n      <td>White</td>\n      <td>Male</td>\n      <td>0</td>\n      <td>0</td>\n      <td>40</td>\n      <td>United-States</td>\n      <td>&lt;=50K</td>\n    </tr>\n    <tr>\n      <th>...</th>\n      <td>...</td>\n      <td>...</td>\n      <td>...</td>\n      <td>...</td>\n      <td>...</td>\n      <td>...</td>\n      <td>...</td>\n      <td>...</td>\n      <td>...</td>\n      <td>...</td>\n      <td>...</td>\n      <td>...</td>\n      <td>...</td>\n      <td>...</td>\n      <td>...</td>\n    </tr>\n    <tr>\n      <th>70</th>\n      <td>19</td>\n      <td>Private</td>\n      <td>101509</td>\n      <td>Some-college</td>\n      <td>10</td>\n      <td>Never-married</td>\n      <td>Prof-specialty</td>\n      <td>Own-child</td>\n      <td>White</td>\n      <td>Male</td>\n      <td>0</td>\n      <td>0</td>\n      <td>32</td>\n      <td>United-States</td>\n      <td>&lt;=50K</td>\n    </tr>\n    <tr>\n      <th>71</th>\n      <td>31</td>\n      <td>Private</td>\n      <td>309974</td>\n      <td>Bachelors</td>\n      <td>13</td>\n      <td>Separated</td>\n      <td>Sales</td>\n      <td>Own-child</td>\n      <td>Black</td>\n      <td>Female</td>\n      <td>0</td>\n      <td>0</td>\n      <td>40</td>\n      <td>United-States</td>\n      <td>&lt;=50K</td>\n    </tr>\n    <tr>\n      <th>72</th>\n      <td>29</td>\n      <td>Self-emp-not-inc</td>\n      <td>162298</td>\n      <td>Bachelors</td>\n      <td>13</td>\n      <td>Married-civ-spouse</td>\n      <td>Sales</td>\n      <td>Husband</td>\n      <td>White</td>\n      <td>Male</td>\n      <td>0</td>\n      <td>0</td>\n      <td>70</td>\n      <td>United-States</td>\n      <td>&gt;50K</td>\n    </tr>\n    <tr>\n      <th>73</th>\n      <td>23</td>\n      <td>Private</td>\n      <td>211678</td>\n      <td>Some-college</td>\n      <td>10</td>\n      <td>Never-married</td>\n      <td>Machine-op-inspct</td>\n      <td>Not-in-family</td>\n      <td>White</td>\n      <td>Male</td>\n      <td>0</td>\n      <td>0</td>\n      <td>40</td>\n      <td>United-States</td>\n      <td>&lt;=50K</td>\n    </tr>\n    <tr>\n      <th>74</th>\n      <td>79</td>\n      <td>Private</td>\n      <td>124744</td>\n      <td>Some-college</td>\n      <td>10</td>\n      <td>Married-civ-spouse</td>\n      <td>Prof-specialty</td>\n      <td>Other-relative</td>\n      <td>White</td>\n      <td>Male</td>\n      <td>0</td>\n      <td>0</td>\n      <td>20</td>\n      <td>United-States</td>\n      <td>&lt;=50K</td>\n    </tr>\n    <tr>\n      <th>75</th>\n      <td>27</td>\n      <td>Private</td>\n      <td>213921</td>\n      <td>HS-grad</td>\n      <td>9</td>\n      <td>Never-married</td>\n      <td>Other-service</td>\n      <td>Own-child</td>\n      <td>White</td>\n      <td>Male</td>\n      <td>0</td>\n      <td>0</td>\n      <td>40</td>\n      <td>Mexico</td>\n      <td>&lt;=50K</td>\n    </tr>\n    <tr>\n      <th>76</th>\n      <td>40</td>\n      <td>Private</td>\n      <td>32214</td>\n      <td>Assoc-acdm</td>\n      <td>12</td>\n      <td>Married-civ-spouse</td>\n      <td>Adm-clerical</td>\n      <td>Husband</td>\n      <td>White</td>\n      <td>Male</td>\n      <td>0</td>\n      <td>0</td>\n      <td>40</td>\n      <td>United-States</td>\n      <td>&lt;=50K</td>\n    </tr>\n    <tr>\n      <th>77</th>\n      <td>67</td>\n      <td>?</td>\n      <td>212759</td>\n      <td>10th</td>\n      <td>6</td>\n      <td>Married-civ-spouse</td>\n      <td>?</td>\n      <td>Husband</td>\n      <td>White</td>\n      <td>Male</td>\n      <td>0</td>\n      <td>0</td>\n      <td>2</td>\n      <td>United-States</td>\n      <td>&lt;=50K</td>\n    </tr>\n    <tr>\n      <th>78</th>\n      <td>18</td>\n      <td>Private</td>\n      <td>309634</td>\n      <td>11th</td>\n      <td>7</td>\n      <td>Never-married</td>\n      <td>Other-service</td>\n      <td>Own-child</td>\n      <td>White</td>\n      <td>Female</td>\n      <td>0</td>\n      <td>0</td>\n      <td>22</td>\n      <td>United-States</td>\n      <td>&lt;=50K</td>\n    </tr>\n    <tr>\n      <th>79</th>\n      <td>31</td>\n      <td>Local-gov</td>\n      <td>125927</td>\n      <td>7th-8th</td>\n      <td>4</td>\n      <td>Married-civ-spouse</td>\n      <td>Farming-fishing</td>\n      <td>Husband</td>\n      <td>White</td>\n      <td>Male</td>\n      <td>0</td>\n      <td>0</td>\n      <td>40</td>\n      <td>United-States</td>\n      <td>&lt;=50K</td>\n    </tr>\n    <tr>\n      <th>80</th>\n      <td>18</td>\n      <td>Private</td>\n      <td>446839</td>\n      <td>HS-grad</td>\n      <td>9</td>\n      <td>Never-married</td>\n      <td>Sales</td>\n      <td>Not-in-family</td>\n      <td>White</td>\n      <td>Male</td>\n      <td>0</td>\n      <td>0</td>\n      <td>30</td>\n      <td>United-States</td>\n      <td>&lt;=50K</td>\n    </tr>\n    <tr>\n      <th>81</th>\n      <td>52</td>\n      <td>Private</td>\n      <td>276515</td>\n      <td>Bachelors</td>\n      <td>13</td>\n      <td>Married-civ-spouse</td>\n      <td>Other-service</td>\n      <td>Husband</td>\n      <td>White</td>\n      <td>Male</td>\n      <td>0</td>\n      <td>0</td>\n      <td>40</td>\n      <td>Cuba</td>\n      <td>&lt;=50K</td>\n    </tr>\n    <tr>\n      <th>82</th>\n      <td>46</td>\n      <td>Private</td>\n      <td>51618</td>\n      <td>HS-grad</td>\n      <td>9</td>\n      <td>Married-civ-spouse</td>\n      <td>Other-service</td>\n      <td>Wife</td>\n      <td>White</td>\n      <td>Female</td>\n      <td>0</td>\n      <td>0</td>\n      <td>40</td>\n      <td>United-States</td>\n      <td>&lt;=50K</td>\n    </tr>\n    <tr>\n      <th>83</th>\n      <td>59</td>\n      <td>Private</td>\n      <td>159937</td>\n      <td>HS-grad</td>\n      <td>9</td>\n      <td>Married-civ-spouse</td>\n      <td>Sales</td>\n      <td>Husband</td>\n      <td>White</td>\n      <td>Male</td>\n      <td>0</td>\n      <td>0</td>\n      <td>48</td>\n      <td>United-States</td>\n      <td>&lt;=50K</td>\n    </tr>\n    <tr>\n      <th>84</th>\n      <td>44</td>\n      <td>Private</td>\n      <td>343591</td>\n      <td>HS-grad</td>\n      <td>9</td>\n      <td>Divorced</td>\n      <td>Craft-repair</td>\n      <td>Not-in-family</td>\n      <td>White</td>\n      <td>Female</td>\n      <td>14344</td>\n      <td>0</td>\n      <td>40</td>\n      <td>United-States</td>\n      <td>&gt;50K</td>\n    </tr>\n    <tr>\n      <th>85</th>\n      <td>53</td>\n      <td>Private</td>\n      <td>346253</td>\n      <td>HS-grad</td>\n      <td>9</td>\n      <td>Divorced</td>\n      <td>Sales</td>\n      <td>Own-child</td>\n      <td>White</td>\n      <td>Female</td>\n      <td>0</td>\n      <td>0</td>\n      <td>35</td>\n      <td>United-States</td>\n      <td>&lt;=50K</td>\n    </tr>\n    <tr>\n      <th>86</th>\n      <td>49</td>\n      <td>Local-gov</td>\n      <td>268234</td>\n      <td>HS-grad</td>\n      <td>9</td>\n      <td>Married-civ-spouse</td>\n      <td>Protective-serv</td>\n      <td>Husband</td>\n      <td>White</td>\n      <td>Male</td>\n      <td>0</td>\n      <td>0</td>\n      <td>40</td>\n      <td>United-States</td>\n      <td>&gt;50K</td>\n    </tr>\n    <tr>\n      <th>87</th>\n      <td>33</td>\n      <td>Private</td>\n      <td>202051</td>\n      <td>Masters</td>\n      <td>14</td>\n      <td>Married-civ-spouse</td>\n      <td>Prof-specialty</td>\n      <td>Husband</td>\n      <td>White</td>\n      <td>Male</td>\n      <td>0</td>\n      <td>0</td>\n      <td>50</td>\n      <td>United-States</td>\n      <td>&lt;=50K</td>\n    </tr>\n    <tr>\n      <th>88</th>\n      <td>30</td>\n      <td>Private</td>\n      <td>54334</td>\n      <td>9th</td>\n      <td>5</td>\n      <td>Never-married</td>\n      <td>Sales</td>\n      <td>Not-in-family</td>\n      <td>White</td>\n      <td>Male</td>\n      <td>0</td>\n      <td>0</td>\n      <td>40</td>\n      <td>United-States</td>\n      <td>&lt;=50K</td>\n    </tr>\n    <tr>\n      <th>89</th>\n      <td>43</td>\n      <td>Federal-gov</td>\n      <td>410867</td>\n      <td>Doctorate</td>\n      <td>16</td>\n      <td>Never-married</td>\n      <td>Prof-specialty</td>\n      <td>Not-in-family</td>\n      <td>White</td>\n      <td>Female</td>\n      <td>0</td>\n      <td>0</td>\n      <td>50</td>\n      <td>United-States</td>\n      <td>&gt;50K</td>\n    </tr>\n    <tr>\n      <th>90</th>\n      <td>57</td>\n      <td>Private</td>\n      <td>249977</td>\n      <td>Assoc-voc</td>\n      <td>11</td>\n      <td>Married-civ-spouse</td>\n      <td>Prof-specialty</td>\n      <td>Husband</td>\n      <td>White</td>\n      <td>Male</td>\n      <td>0</td>\n      <td>0</td>\n      <td>40</td>\n      <td>United-States</td>\n      <td>&lt;=50K</td>\n    </tr>\n    <tr>\n      <th>91</th>\n      <td>37</td>\n      <td>Private</td>\n      <td>286730</td>\n      <td>Some-college</td>\n      <td>10</td>\n      <td>Divorced</td>\n      <td>Craft-repair</td>\n      <td>Unmarried</td>\n      <td>White</td>\n      <td>Female</td>\n      <td>0</td>\n      <td>0</td>\n      <td>40</td>\n      <td>United-States</td>\n      <td>&lt;=50K</td>\n    </tr>\n    <tr>\n      <th>92</th>\n      <td>28</td>\n      <td>Private</td>\n      <td>212563</td>\n      <td>Some-college</td>\n      <td>10</td>\n      <td>Divorced</td>\n      <td>Machine-op-inspct</td>\n      <td>Unmarried</td>\n      <td>Black</td>\n      <td>Female</td>\n      <td>0</td>\n      <td>0</td>\n      <td>25</td>\n      <td>United-States</td>\n      <td>&lt;=50K</td>\n    </tr>\n    <tr>\n      <th>93</th>\n      <td>30</td>\n      <td>Private</td>\n      <td>117747</td>\n      <td>HS-grad</td>\n      <td>9</td>\n      <td>Married-civ-spouse</td>\n      <td>Sales</td>\n      <td>Wife</td>\n      <td>Asian-Pac-Islander</td>\n      <td>Female</td>\n      <td>0</td>\n      <td>1573</td>\n      <td>35</td>\n      <td>?</td>\n      <td>&lt;=50K</td>\n    </tr>\n    <tr>\n      <th>94</th>\n      <td>34</td>\n      <td>Local-gov</td>\n      <td>226296</td>\n      <td>Bachelors</td>\n      <td>13</td>\n      <td>Married-civ-spouse</td>\n      <td>Protective-serv</td>\n      <td>Husband</td>\n      <td>White</td>\n      <td>Male</td>\n      <td>0</td>\n      <td>0</td>\n      <td>40</td>\n      <td>United-States</td>\n      <td>&gt;50K</td>\n    </tr>\n    <tr>\n      <th>95</th>\n      <td>29</td>\n      <td>Local-gov</td>\n      <td>115585</td>\n      <td>Some-college</td>\n      <td>10</td>\n      <td>Never-married</td>\n      <td>Handlers-cleaners</td>\n      <td>Not-in-family</td>\n      <td>White</td>\n      <td>Male</td>\n      <td>0</td>\n      <td>0</td>\n      <td>50</td>\n      <td>United-States</td>\n      <td>&lt;=50K</td>\n    </tr>\n    <tr>\n      <th>96</th>\n      <td>48</td>\n      <td>Self-emp-not-inc</td>\n      <td>191277</td>\n      <td>Doctorate</td>\n      <td>16</td>\n      <td>Married-civ-spouse</td>\n      <td>Prof-specialty</td>\n      <td>Husband</td>\n      <td>White</td>\n      <td>Male</td>\n      <td>0</td>\n      <td>1902</td>\n      <td>60</td>\n      <td>United-States</td>\n      <td>&gt;50K</td>\n    </tr>\n    <tr>\n      <th>97</th>\n      <td>37</td>\n      <td>Private</td>\n      <td>202683</td>\n      <td>Some-college</td>\n      <td>10</td>\n      <td>Married-civ-spouse</td>\n      <td>Sales</td>\n      <td>Husband</td>\n      <td>White</td>\n      <td>Male</td>\n      <td>0</td>\n      <td>0</td>\n      <td>48</td>\n      <td>United-States</td>\n      <td>&gt;50K</td>\n    </tr>\n    <tr>\n      <th>98</th>\n      <td>48</td>\n      <td>Private</td>\n      <td>171095</td>\n      <td>Assoc-acdm</td>\n      <td>12</td>\n      <td>Divorced</td>\n      <td>Exec-managerial</td>\n      <td>Unmarried</td>\n      <td>White</td>\n      <td>Female</td>\n      <td>0</td>\n      <td>0</td>\n      <td>40</td>\n      <td>England</td>\n      <td>&lt;=50K</td>\n    </tr>\n    <tr>\n      <th>99</th>\n      <td>32</td>\n      <td>Federal-gov</td>\n      <td>249409</td>\n      <td>HS-grad</td>\n      <td>9</td>\n      <td>Never-married</td>\n      <td>Other-service</td>\n      <td>Own-child</td>\n      <td>Black</td>\n      <td>Male</td>\n      <td>0</td>\n      <td>0</td>\n      <td>40</td>\n      <td>United-States</td>\n      <td>&lt;=50K</td>\n    </tr>\n  </tbody>\n</table>\n<p>100 rows × 15 columns</p>\n</div>"
          },
          "metadata": {}
        }
      ]
    },
    {
      "metadata": {
        "_uuid": "6b19853f936853d40971b56f4d298ab55ee78cac"
      },
      "cell_type": "markdown",
      "source": "**1. How many men and women (*sex* feature) are represented in this dataset?** "
    },
    {
      "metadata": {
        "trusted": true,
        "_uuid": "d32cafcbe966dbdfa40c3017d16d6f8c96bfb3e2"
      },
      "cell_type": "code",
      "source": "data['sex'].value_counts()",
      "execution_count": null,
      "outputs": []
    },
    {
      "metadata": {
        "_uuid": "4748793234a5d325ea60d13331ecf93e29774523"
      },
      "cell_type": "markdown",
      "source": "**2. What is the average age (*age* feature) of women?**"
    },
    {
      "metadata": {
        "trusted": true,
        "_uuid": "64f60d928855107d8980875656dcdf3587d91646",
        "_kg_hide-input": false,
        "_kg_hide-output": false
      },
      "cell_type": "code",
      "source": "data[data['sex'] == 'Female']['age'].mean()",
      "execution_count": null,
      "outputs": []
    },
    {
      "metadata": {
        "_uuid": "80e87c421c348067e88769c64e554206c51727d1"
      },
      "cell_type": "markdown",
      "source": "**3. What is the percentage of German citizens (*native-country* feature)?**"
    },
    {
      "metadata": {
        "trusted": true,
        "_uuid": "ca9807509692638bd945671ed7d8b4a5ad1f3626"
      },
      "cell_type": "code",
      "source": "(data[data['native-country'] == 'Germany']['native-country'].value_counts()/data['native-country'].count())*100\n",
      "execution_count": null,
      "outputs": []
    },
    {
      "metadata": {
        "_uuid": "be9911cf525df4fca2c1d14b8720bc8a82f462e7"
      },
      "cell_type": "markdown",
      "source": "**4-5. What are the mean and standard deviation of age for those who earn more than 50K per year (*salary* feature) and those who earn less than 50K per year? **"
    },
    {
      "metadata": {
        "trusted": true,
        "_uuid": "97948f0115f949913d211627151b5605bcd204fd",
        "_kg_hide-output": true
      },
      "cell_type": "code",
      "source": "print(data[data['salary'] == '>50K']['age'].mean())\nprint(data[data['salary'] == '>50K']['age'].std())\nprint(data[data['salary'] == '<=50K']['age'].mean())\nprint(data[data['salary'] == '<=50K']['age'].std())",
      "execution_count": null,
      "outputs": []
    },
    {
      "metadata": {
        "_uuid": "180c3fe6f8b250b877c1d86866067b80acabdb64"
      },
      "cell_type": "markdown",
      "source": "**************************6. Is it true that people who earn more than 50K have at least high school education? (*education – Bachelors, Prof-school, Assoc-acdm, Assoc-voc, Masters* or *Doctorate* feature)**"
    },
    {
      "metadata": {
        "trusted": true,
        "_uuid": "58f38ebfa2b0e1418a6a1a680d0743697f9876a2"
      },
      "cell_type": "code",
      "source": "data[(data['salary'] == '>50K') & (data['education'] != 'Bachelors') & (data['education'] != 'Prof-school') & (data['education'] != 'Assoc-acdm') & (data['education'] != 'Assoc-voc') & ((data['education'] != 'Masters') | (data['education'] != 'Doctorate') ) ]['education'].count()\nprint('No')",
      "execution_count": null,
      "outputs": []
    },
    {
      "metadata": {
        "_uuid": "87d6bc9ec1c230e66416ce94533ea250368009cc"
      },
      "cell_type": "markdown",
      "source": "**7. Display age statistics for each race (*race* feature) and each gender (*sex* feature). Use *groupby()* and *describe()*. Find the maximum age of men of *Amer-Indian-Eskimo* race.**"
    },
    {
      "metadata": {
        "trusted": true,
        "_uuid": "a4567b72200b583f7f2ee1583405d636c12169db"
      },
      "cell_type": "code",
      "source": "print(data.groupby(['race'])['race'].describe())\nprint(data.groupby(['sex'])['sex'].describe())\nprint(data[data['race']== 'Amer-Indian-Eskimo']['age'].max())",
      "execution_count": null,
      "outputs": []
    },
    {
      "metadata": {
        "_uuid": "19411d604b0d4337a4a048a2f0e898541f39ab76"
      },
      "cell_type": "markdown",
      "source": "**8. Among whom is the proportion of those who earn a lot (>50K) greater: married or single men (*marital-status* feature)? Consider as married those who have a *marital-status* starting with *Married* (Married-civ-spouse, Married-spouse-absent or Married-AF-spouse), the rest are considered bachelors.**"
    },
    {
      "metadata": {
        "trusted": true,
        "_uuid": "5bb3a8524fcbd794707075ccf6aaf8dd0f30a3dd"
      },
      "cell_type": "code",
      "source": "data[data['salary']=='>50K']['salary'].count()",
      "execution_count": null,
      "outputs": []
    },
    {
      "metadata": {
        "trusted": true,
        "_uuid": "6df4599df835301052ba599665c5c13b86e243a8"
      },
      "cell_type": "code",
      "source": "print(data[data['marital-status'].apply(lambda status : status[0:7] == 'Married')]['marital-status'].count())\nprint(data[data['marital-status'].apply(lambda status : status[0:7] != 'Married')]['marital-status'].count())\nprint(\"single men\")",
      "execution_count": 10,
      "outputs": [
        {
          "output_type": "stream",
          "text": "15417\n17144\n",
          "name": "stdout"
        }
      ]
    },
    {
      "metadata": {
        "_uuid": "34f2076e7d331b95a23b990372809b709d2c8183"
      },
      "cell_type": "markdown",
      "source": "**9. What is the maximum number of hours a person works per week (*hours-per-week* feature)? How many people work such a number of hours, and what is the percentage of those who earn a lot (>50K) among them?**"
    },
    {
      "metadata": {
        "trusted": true,
        "_uuid": "3571468172fc4bcf34e10b3d6ab358d4e41f7ef4"
      },
      "cell_type": "code",
      "source": "print(data[data['hours-per-week'] == data['hours-per-week'].max()]['hours-per-week'].count())\nprint(data[data['hours-per-week'] == data['hours-per-week'].max() & (data['salary'] == '>50K')]['hours-per-week'].count())",
      "execution_count": 18,
      "outputs": [
        {
          "output_type": "stream",
          "text": "85\n2\n",
          "name": "stdout"
        }
      ]
    },
    {
      "metadata": {
        "_uuid": "d539d4d137fac1c5ea25bc516188eb657d67e9b4"
      },
      "cell_type": "markdown",
      "source": "**10. Count the average time of work (*hours-per-week*) for those who earn a little and a lot (*salary*) for each country (*native-country*). What will these be for Japan?**"
    },
    {
      "metadata": {
        "trusted": true,
        "_uuid": "75a93411f1e3b519afcc27c026aaa0c67eb526e9"
      },
      "cell_type": "code",
      "source": "columns_to_show = ['hours-per-week']\nprint(data[data['salary']=='>50K'].groupby('native-country')[columns_to_show].mean())\nprint(data[data['salary']=='<=50K'].groupby('native-country')[columns_to_show].mean())",
      "execution_count": null,
      "outputs": []
    }
  ],
  "metadata": {
    "anaconda-cloud": {},
    "kernelspec": {
      "display_name": "Python 3",
      "language": "python",
      "name": "python3"
    },
    "language_info": {
      "name": "python",
      "version": "3.6.6",
      "mimetype": "text/x-python",
      "codemirror_mode": {
        "name": "ipython",
        "version": 3
      },
      "pygments_lexer": "ipython3",
      "nbconvert_exporter": "python",
      "file_extension": ".py"
    }
  },
  "nbformat": 4,
  "nbformat_minor": 1
}